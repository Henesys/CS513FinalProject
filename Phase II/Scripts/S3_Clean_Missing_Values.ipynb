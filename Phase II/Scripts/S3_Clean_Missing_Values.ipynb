{
 "cells": [
  {
   "cell_type": "code",
   "execution_count": 1,
   "id": "905b2aea-596b-46dd-b792-7a8bfc48a76b",
   "metadata": {},
   "outputs": [
    {
     "name": "stdout",
     "output_type": "stream",
     "text": [
      "Current Directory: C:\\Users\\chad.lowe\n"
     ]
    }
   ],
   "source": [
    "import pandas as pd\n",
    "import os\n",
    "print(f\"Current Directory: {os.getcwd()}\")"
   ]
  },
  {
   "cell_type": "code",
   "execution_count": 35,
   "id": "a9e813f7-3fda-4d08-8494-4908d1c3d920",
   "metadata": {},
   "outputs": [
    {
     "name": "stdout",
     "output_type": "stream",
     "text": [
      "# rows: 17545\n",
      "\n",
      "Missing Values:\n",
      "name                    14348\n",
      "sponsor                  1561\n",
      "event                    9391\n",
      "venue                    9426\n",
      "place                    9422\n",
      "physical_description     2782\n",
      "occasion                13754\n",
      "notes                    6932\n",
      "call_number              1562\n",
      "keywords                17545\n",
      "language                17545\n",
      "date                      586\n",
      "location_type           17545\n",
      "currency                11089\n",
      "currency_symbol         11089\n",
      "dtype: int64\n",
      "\n",
      "# rows after dropping missing event: 14763\n",
      "name               12563\n",
      "event               6778\n",
      "place               6648\n",
      "occasion           10975\n",
      "notes               4883\n",
      "keywords           14763\n",
      "language           14763\n",
      "date                 574\n",
      "location_type      14763\n",
      "currency            9154\n",
      "currency_symbol     9154\n",
      "dtype: int64\n",
      "\n"
     ]
    }
   ],
   "source": [
    "# Address missing values in the name, sponsor and venue columns.\n",
    "\n",
    "df = pd.read_csv('D:/sandbox/CS513FinalProject/Data/menu.csv', sep=\",\")\n",
    "\n",
    "print(f\"# rows: {df.shape[0]}\")\n",
    "print(\"\")\n",
    "\n",
    "columns_with_mv = df.columns[df.isnull().any()]\n",
    "print(\"Missing Values:\")\n",
    "print(df[columns_with_mv].isnull().sum())\n",
    "print(\"\")\n",
    "\n",
    "# Remove rows with missing values in physical_description\n",
    "df_cleaned = df.dropna(subset=['physical_description'])\n",
    "\n",
    "# NOTE: After dropping rows with missing values in physical_description, there are no missing values in the sponsor volume.\n",
    "\n",
    "# Replace missing venue with 'OTHER'\n",
    "df_cleaned.loc[df_cleaned['venue'].isnull(), 'venue'] = 'OTHER'\n",
    "\n",
    "print(f\"# rows after dropping missing event: {df_cleaned.shape[0]}\")\n",
    "columns_with_mv = df_cleaned.columns[df_cleaned.isnull().any()]\n",
    "print(df_cleaned[columns_with_mv].isnull().sum())\n",
    "print(\"\")\n",
    "\n",
    "# Report value counts in \n",
    "#print(df_cleaned['venue'].value_counts())\n",
    "#print(\"\")\n",
    "\n",
    "df_cleaned.to_csv('D:/sandbox/CS513FinalProject/Data/menu_s3_4.csv', index=False, header=True)"
   ]
  }
 ],
 "metadata": {
  "kernelspec": {
   "display_name": "Python 3 (ipykernel)",
   "language": "python",
   "name": "python3"
  },
  "language_info": {
   "codemirror_mode": {
    "name": "ipython",
    "version": 3
   },
   "file_extension": ".py",
   "mimetype": "text/x-python",
   "name": "python",
   "nbconvert_exporter": "python",
   "pygments_lexer": "ipython3",
   "version": "3.12.4"
  }
 },
 "nbformat": 4,
 "nbformat_minor": 5
}
